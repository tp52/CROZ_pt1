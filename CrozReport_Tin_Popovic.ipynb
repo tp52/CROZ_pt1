{
 "cells": [
  {
   "cell_type": "markdown",
   "id": "9a06ba35",
   "metadata": {},
   "source": [
    "# Selekcijski zadatak : Machine Learning inženjer - CROZ 2023"
   ]
  },
  {
   "cell_type": "markdown",
   "id": "c21f9b24",
   "metadata": {},
   "source": [
    "Ovaj dokument sadrži programsko rješenje prva dva dijela selekcijskog zadatka. Implementirana je analiza,obrada i priprema podataka kao i odabir, treniranje i evaluacija modela."
   ]
  },
  {
   "cell_type": "markdown",
   "id": "83e17932",
   "metadata": {},
   "source": [
    "# 1. Analiza, obrada i priprema podataka"
   ]
  },
  {
   "cell_type": "markdown",
   "id": "3579418b",
   "metadata": {},
   "source": [
    "Za potrebe rješenja ovih zadataka korištena je biblioteka \"pandas\" i \"NumPy\""
   ]
  },
  {
   "cell_type": "code",
   "execution_count": 1,
   "id": "2c0cfdf3",
   "metadata": {},
   "outputs": [
    {
     "name": "stdout",
     "output_type": "stream",
     "text": [
      "%pylab is deprecated, use %matplotlib inline and import the required libraries.\n",
      "Populating the interactive namespace from numpy and matplotlib\n"
     ]
    }
   ],
   "source": [
    "import pandas as pd\n",
    "import numpy as np\n",
    "import matplotlib.pyplot as plt\n",
    "%pylab inline"
   ]
  },
  {
   "cell_type": "markdown",
   "id": "1b1dc5c4",
   "metadata": {},
   "source": [
    "Podatkovni skup kojeg koristimo predstavlja skup podataka o vozilima. Svrha ovog zadatak je pripremiti podatkovni skup koji će se dalje koristiti za predviđanje cijene automobila. DataSet je učitan putem \"pandas\" biblioteke, te je spremljen u objekt \"data\"."
   ]
  },
  {
   "cell_type": "code",
   "execution_count": 2,
   "id": "0591ef94",
   "metadata": {},
   "outputs": [],
   "source": [
    "data=pd.read_csv(\"data/vehicles.csv\")"
   ]
  },
  {
   "cell_type": "markdown",
   "id": "4bc6d1f7",
   "metadata": {},
   "source": [
    "Pogledajmo strukturu našeg podatkovnog skupa."
   ]
  },
  {
   "cell_type": "code",
   "execution_count": 3,
   "id": "ee391270",
   "metadata": {},
   "outputs": [
    {
     "name": "stdout",
     "output_type": "stream",
     "text": [
      "The dimension of data set is :  (426880, 26)\n"
     ]
    }
   ],
   "source": [
    "print(\"The dimension of data set is : \",data.shape)"
   ]
  },
  {
   "cell_type": "markdown",
   "id": "ed3a37c4",
   "metadata": {},
   "source": [
    "Podatkovni skup kojeg imamo na raspolaganju je složene prirode. Imamo preko 400 tisuća zapisa na raspolaganju, gdje svaki zapis je opisan s 26 značajki. Pogledajmo koje varijable  opisuju svaki zapis, te da li su svih 26 potrebne. "
   ]
  },
  {
   "cell_type": "markdown",
   "id": "9ff9a4be",
   "metadata": {},
   "source": [
    "## Brisanje značajki"
   ]
  },
  {
   "cell_type": "code",
   "execution_count": 4,
   "id": "c8cb7716",
   "metadata": {},
   "outputs": [
    {
     "name": "stdout",
     "output_type": "stream",
     "text": [
      "Name of the columns:  ['id', 'url', 'region', 'region_url', 'price', 'year', 'manufacturer', 'model', 'condition', 'cylinders', 'fuel', 'odometer', 'title_status', 'transmission', 'VIN', 'drive', 'size', 'type', 'paint_color', 'image_url', 'description', 'county', 'state', 'lat', 'long', 'posting_date']\n"
     ]
    }
   ],
   "source": [
    "print(\"Name of the columns: \",list(data.columns))"
   ]
  },
  {
   "cell_type": "markdown",
   "id": "4ec24eff",
   "metadata": {},
   "source": [
    "Želimo predvidjeti cijenu automobila stoga već možemo vidjeti da nam neće biti potrebni baš sve varijable ovog skupa. Primjerice identifikatori zapisa kao što su \"id\", i \"VIN\" ne doprinose nikakvu korisnu informaciju. Nadalje moramo izabrati one varijable koje se čine najkorisnijim. Varijable koje ćemo izbaciti iz ovog skupa su sjedeće: \n",
    "'id', 'VIN','state','url','region',                   'region_url','posting_date','image_url','paint_color','description','lat','long"
   ]
  },
  {
   "cell_type": "code",
   "execution_count": 5,
   "id": "25a154ff",
   "metadata": {},
   "outputs": [],
   "source": [
    "data=data.drop(columns=['id', 'VIN','state','url','region',\n",
    "                        'region_url','posting_date','image_url','paint_color','description','lat','long'])"
   ]
  },
  {
   "cell_type": "code",
   "execution_count": 6,
   "id": "f31fde30",
   "metadata": {},
   "outputs": [
    {
     "name": "stdout",
     "output_type": "stream",
     "text": [
      "The dimension of data set is :  (426880, 14)\n"
     ]
    }
   ],
   "source": [
    "print(\"The dimension of data set is : \",data.shape)"
   ]
  },
  {
   "cell_type": "markdown",
   "id": "02223dca",
   "metadata": {},
   "source": [
    "Bilo je potrebno smanjiti dimenzionalnost i složenost našeg podatkovnog skupa. Većina izbrisani stupaca su kategoričke varijable koje bi dalje morali enkodirati za korištenje u ML modelima. Taj proces bi još više povećao složenost podatkovnog procesa, te je jednostavno bilo potrebno žrtvovati neke varijable."
   ]
  },
  {
   "cell_type": "markdown",
   "id": "f9fcd3f3",
   "metadata": {},
   "source": [
    "## Nedostajuće vrijednosti."
   ]
  },
  {
   "cell_type": "markdown",
   "id": "fcf8aa9d",
   "metadata": {},
   "source": [
    "Pogledajmo koliko imamo nedostajućih vrijednosti u našem skupu po značajkama. "
   ]
  },
  {
   "cell_type": "code",
   "execution_count": 7,
   "id": "dfded38d",
   "metadata": {},
   "outputs": [
    {
     "name": "stdout",
     "output_type": "stream",
     "text": [
      "Column: price  has:  0  NaN values.\n",
      "That is 0.0 % of the DS \n",
      "\n",
      "Column: year  has:  1205  NaN values.\n",
      "That is 0.282 % of the DS \n",
      "\n",
      "Column: manufacturer  has:  17646  NaN values.\n",
      "That is 4.134 % of the DS \n",
      "\n",
      "Column: model  has:  5277  NaN values.\n",
      "That is 1.236 % of the DS \n",
      "\n",
      "Column: condition  has:  174104  NaN values.\n",
      "That is 40.785 % of the DS \n",
      "\n",
      "Column: cylinders  has:  177678  NaN values.\n",
      "That is 41.622 % of the DS \n",
      "\n",
      "Column: fuel  has:  3013  NaN values.\n",
      "That is 0.706 % of the DS \n",
      "\n",
      "Column: odometer  has:  4400  NaN values.\n",
      "That is 1.031 % of the DS \n",
      "\n",
      "Column: title_status  has:  8242  NaN values.\n",
      "That is 1.931 % of the DS \n",
      "\n",
      "Column: transmission  has:  2556  NaN values.\n",
      "That is 0.599 % of the DS \n",
      "\n",
      "Column: drive  has:  130567  NaN values.\n",
      "That is 30.586 % of the DS \n",
      "\n",
      "Column: size  has:  306361  NaN values.\n",
      "That is 71.767 % of the DS \n",
      "\n",
      "Column: type  has:  92858  NaN values.\n",
      "That is 21.753 % of the DS \n",
      "\n",
      "Column: county  has:  426880  NaN values.\n",
      "That is 100.0 % of the DS \n",
      "\n"
     ]
    }
   ],
   "source": [
    "for i in range (0,14):\n",
    "    numOfNaN=data.iloc[:, i].isna().sum()\n",
    "    print(\"Column:\",data.columns[i], \" has: \",numOfNaN,\" NaN values.\")\n",
    "    print(\"That is\",round((numOfNaN/data.shape[0])*100,3),\"% of the DS \\n\")"
   ]
  },
  {
   "cell_type": "markdown",
   "id": "07d27643",
   "metadata": {},
   "source": [
    "Prvo vidimo da varijabla \"size\" ima preko 70% nedostajućih vrijednosti, a varijabla \"county\" čak i 100% NaN vrijednosti. Ne možemo biti tvrditi legitimnost tih stupaca zbog velike količine NaN vrijednosti, stoga najbolje što možemo učiniti je izbaciti u cijelosti iz dataseta."
   ]
  },
  {
   "cell_type": "code",
   "execution_count": 8,
   "id": "22e39b1c",
   "metadata": {},
   "outputs": [],
   "source": [
    "data=data.drop(columns=['county','size'])"
   ]
  },
  {
   "cell_type": "markdown",
   "id": "88fcc9a7",
   "metadata": {},
   "source": [
    "Najčešći načini zamijene NaN vrijednosti je zamjena s modom, srednjom vrijednosti ili medijanom. Ako radimo s kategoričkim varijablama onda je zamjena najčešćom vrijednosti(modom) najbolja.\n"
   ]
  },
  {
   "cell_type": "markdown",
   "id": "e1e8ad38",
   "metadata": {},
   "source": [
    "Iz prijašnjeg ispisa vidimo da su prisutne NaN vrijednosti i dalje. U nekim varijablama prisutnost takvih vrijednosti je malena (ispod 2%). Te vrijednosti ćemo jednostavno izbrisati."
   ]
  },
  {
   "cell_type": "code",
   "execution_count": 9,
   "id": "34e6c333",
   "metadata": {},
   "outputs": [],
   "source": [
    "data = data.dropna(subset=['year', 'model', 'fuel', 'odometer','transmission','title_status'])"
   ]
  },
  {
   "cell_type": "markdown",
   "id": "b5d4bb84",
   "metadata": {},
   "source": [
    "Ostatak varijabli zahtjeva delikatnije rješenje. Počnimo od varijable **manufacturer**"
   ]
  },
  {
   "cell_type": "code",
   "execution_count": 10,
   "id": "62987950",
   "metadata": {},
   "outputs": [
    {
     "name": "stdout",
     "output_type": "stream",
     "text": [
      "There are  42  different types of manufacturers\n"
     ]
    }
   ],
   "source": [
    "print(\"There are \",len(data['manufacturer'].unique()),\" different types of manufacturers\")"
   ]
  },
  {
   "cell_type": "code",
   "execution_count": 11,
   "id": "d4afff69",
   "metadata": {},
   "outputs": [
    {
     "data": {
      "text/plain": [
       "array(['gmc', 'chevrolet', 'toyota', 'ford', 'jeep', 'nissan', 'ram',\n",
       "       'mazda', 'cadillac', 'honda', 'dodge', 'lexus', 'jaguar', 'buick',\n",
       "       'chrysler', 'volvo', 'audi', 'infiniti', 'lincoln', 'alfa-romeo',\n",
       "       'subaru', nan, 'acura', 'hyundai', 'mercedes-benz', 'bmw',\n",
       "       'mitsubishi', 'volkswagen', 'porsche', 'kia', 'ferrari', 'mini',\n",
       "       'pontiac', 'fiat', 'rover', 'tesla', 'saturn', 'mercury',\n",
       "       'harley-davidson', 'datsun', 'aston-martin', 'land rover'],\n",
       "      dtype=object)"
      ]
     },
     "execution_count": 11,
     "metadata": {},
     "output_type": "execute_result"
    }
   ],
   "source": [
    "data['manufacturer'].unique()"
   ]
  },
  {
   "cell_type": "markdown",
   "id": "06c819af",
   "metadata": {},
   "source": [
    "Ova varijabla već u sebi sadrži vrijednost \"others\", te je najlakše pridodijeliti istu vrijednost onim zapisima koji sadrže nedostajuće vrijednosti."
   ]
  },
  {
   "cell_type": "code",
   "execution_count": 12,
   "id": "0c7d1e9a",
   "metadata": {},
   "outputs": [],
   "source": [
    "data['manufacturer'] = data['manufacturer'].replace(np.nan, 'others')"
   ]
  },
  {
   "cell_type": "markdown",
   "id": "20d7c3fa",
   "metadata": {},
   "source": [
    "Nadalje ova varijabla je presložena, sadrži 42 moguće vrijednosti. Zbog daljnjih koraka zadržat ćemo samo 15 najčešći vrijednosti."
   ]
  },
  {
   "cell_type": "code",
   "execution_count": 13,
   "id": "c6b0cc23",
   "metadata": {},
   "outputs": [],
   "source": [
    "manufacturer_values = data['manufacturer'].value_counts()\n",
    "data['manufacturer'] = data['manufacturer'].apply(lambda x: x if str(x) in manufacturer_values[:15] else 'others')"
   ]
  },
  {
   "cell_type": "code",
   "execution_count": 14,
   "id": "01792b03",
   "metadata": {},
   "outputs": [
    {
     "data": {
      "text/plain": [
       "array(['gmc', 'chevrolet', 'toyota', 'ford', 'jeep', 'nissan', 'ram',\n",
       "       'others', 'honda', 'dodge', 'subaru', 'hyundai', 'mercedes-benz',\n",
       "       'bmw', 'volkswagen'], dtype=object)"
      ]
     },
     "execution_count": 14,
     "metadata": {},
     "output_type": "execute_result"
    }
   ],
   "source": [
    "data['manufacturer'].unique()"
   ]
  },
  {
   "cell_type": "markdown",
   "id": "bb054fee",
   "metadata": {},
   "source": [
    "Nadalje varijablu **cylinders** je također potrebno osloboditi od NaN vrijednosti. Prvo ćemo pogledati ponašanje te varijable, te promijeniti je u odgovarajući oblik"
   ]
  },
  {
   "cell_type": "code",
   "execution_count": 15,
   "id": "625ba54b",
   "metadata": {},
   "outputs": [
    {
     "name": "stdout",
     "output_type": "stream",
     "text": [
      "8 cylinders: 68535 \n",
      "6 cylinders: 89575 \n",
      "NaN: 169060\n",
      "4 cylinders: 73543 \n",
      "5 cylinders: 1659 \n",
      "other: 1033 \n",
      "3 cylinders: 609 \n",
      "10 cylinders: 1386 \n",
      "12 cylinders: 194 \n"
     ]
    }
   ],
   "source": [
    "unique_values = data[\"cylinders\"].unique()\n",
    "value_counts = data[\"cylinders\"].value_counts(dropna=False)\n",
    "\n",
    "for value in unique_values:\n",
    "    count = value_counts[value]\n",
    "    if pd.isna(value):\n",
    "        print(\"NaN: {}\".format(count,round(count/data.shape[0],3)*100))\n",
    "    else:\n",
    "        print(\"{}: {} \".format(value,count, round(count/data.shape[0],3)*100))"
   ]
  },
  {
   "cell_type": "markdown",
   "id": "30667e91",
   "metadata": {},
   "source": [
    "Opet imamo pojavu vrijednosti \"other\" s kojom možemo zamijeniti nedostajuće vrijednosti."
   ]
  },
  {
   "cell_type": "code",
   "execution_count": 16,
   "id": "b32b7482",
   "metadata": {},
   "outputs": [],
   "source": [
    "data['cylinders'] = data['cylinders'].replace(np.nan, 'other')"
   ]
  },
  {
   "cell_type": "markdown",
   "id": "27ed5ee9",
   "metadata": {},
   "source": [
    "Nadalje želimo se riješiti vrijednosti \"other\", te svakom takvom zapisu pridodijeliti procjenu vrijednosti ove varijable. Procijene ćemo napraviti tako da ćemo podatkovni skup grupirati po proizvođaču te pronaći najučestaliju vrijednost ove varijable svakog proizvođača. Na temelju toga onda dodijeliti tu vrijednost polju s \"other\" vrijednosti. Također u ovom koraku ćemo pretvoriti ovaj stupac u tip int jer će nam poslije trebati takav tip za ovu varijablu."
   ]
  },
  {
   "cell_type": "code",
   "execution_count": 17,
   "id": "aa4e2d81",
   "metadata": {},
   "outputs": [
    {
     "name": "stdout",
     "output_type": "stream",
     "text": [
      "['8 ' '6 ' '4 ' '5 ' '3 ' '10 ' '12 ']\n",
      "{'gmc': 8, 'chevrolet': 8, 'toyota': 4, 'ford': 8, 'jeep': 6, 'nissan': 4, 'ram': 8, 'honda': 4, 'dodge': 6, 'others': 6, 'subaru': 4, 'mercedes-benz': 6, 'bmw': 6, 'volkswagen': 4, 'hyundai': 4}\n"
     ]
    }
   ],
   "source": [
    "## Group by manufactuer and find the average numb of cilinders for that manufactuer.\n",
    "import warnings\n",
    "warnings.filterwarnings('ignore')\n",
    "\n",
    "## Group by manufactuer and find the average numb of cilinders for that manufactuer.\n",
    "definedCylinders = data[data['cylinders'] != 'other']\n",
    "definedCylinders['cylinders'] = definedCylinders['cylinders'].str.replace(\"cylinders\",\"\")\n",
    "print(definedCylinders[\"cylinders\"].unique())\n",
    "\n",
    "definedCylinders['cylinders'] = definedCylinders['cylinders'].astype(int)\n",
    "\n",
    "manufactuers=definedCylinders[\"manufacturer\"].unique()\n",
    "AverageNumOfCylinders={}\n",
    "\n",
    "for manu in manufactuers:\n",
    "    #Get the subset of that manufactuer\n",
    "    manuSubset=definedCylinders[definedCylinders[\"manufacturer\"] == manu]\n",
    "    # Get the average number of cylinders for that column.\n",
    "    avgNumOfCyl=manuSubset[\"cylinders\"].mode()\n",
    "    AverageNumOfCylinders[manu]=int(round(avgNumOfCyl,0))\n",
    "\n",
    "print(AverageNumOfCylinders)\n",
    "data['cylinders'] = data['cylinders'].str.replace(\"cylinders\",\"\")\n"
   ]
  },
  {
   "cell_type": "code",
   "execution_count": 18,
   "id": "8066cc8e",
   "metadata": {},
   "outputs": [
    {
     "data": {
      "text/plain": [
       "array([ 8,  6,  4,  5,  3, 10, 12])"
      ]
     },
     "execution_count": 18,
     "metadata": {},
     "output_type": "execute_result"
    }
   ],
   "source": [
    "for manu in manufactuers:\n",
    "    data.loc[(data[\"manufacturer\"]==manu) & (data[\"cylinders\"]=='other'),['cylinders']]=AverageNumOfCylinders[manu]\n",
    "\n",
    "data['cylinders'] = data['cylinders'].astype(int)\n",
    "data[\"cylinders\"].unique()"
   ]
  },
  {
   "cell_type": "markdown",
   "id": "558617a5",
   "metadata": {},
   "source": [
    "Isti način zamijene nedostajuće vrijednosti s najdominantnijom tog proizvođača ćemo upotrijebiti i na varijablu \"drive\"."
   ]
  },
  {
   "cell_type": "code",
   "execution_count": 19,
   "id": "9b050580",
   "metadata": {},
   "outputs": [
    {
     "name": "stdout",
     "output_type": "stream",
     "text": [
      "Unique drive values:  ['rwd' '4wd' 'fwd']\n"
     ]
    }
   ],
   "source": [
    "## Group by manufactuer and find the average numb of cilinders for that manufactuer.\n",
    "definedDrive = data[data['drive'].notna()]\n",
    "print(\"Unique drive values: \",definedDrive[\"drive\"].unique())"
   ]
  },
  {
   "cell_type": "code",
   "execution_count": 20,
   "id": "db615fc4",
   "metadata": {},
   "outputs": [
    {
     "name": "stdout",
     "output_type": "stream",
     "text": [
      "NaN: 121945 \n",
      "rwd: 56795 \n",
      "4wd: 125365 \n",
      "fwd: 101489 \n"
     ]
    }
   ],
   "source": [
    "unique_values = data[\"drive\"].unique()\n",
    "value_counts = data[\"drive\"].value_counts(dropna=False)\n",
    "\n",
    "for value in unique_values:\n",
    "    count = value_counts[value]\n",
    "    if pd.isna(value):\n",
    "        print(\"NaN: {} \".format(count))\n",
    "    else:\n",
    "        print(\"{}: {} \".format(value,count))"
   ]
  },
  {
   "cell_type": "code",
   "execution_count": 21,
   "id": "48fd91ed",
   "metadata": {},
   "outputs": [
    {
     "name": "stdout",
     "output_type": "stream",
     "text": [
      "{'ford': '4wd', 'gmc': '4wd', 'chevrolet': '4wd', 'toyota': 'fwd', 'jeep': '4wd', 'nissan': 'fwd', 'others': 'fwd', 'honda': 'fwd', 'dodge': 'rwd', 'hyundai': 'fwd', 'ram': '4wd', 'mercedes-benz': 'rwd', 'bmw': 'rwd', 'volkswagen': 'fwd', 'subaru': '4wd'}\n"
     ]
    }
   ],
   "source": [
    "#Get the most common value per manufactuer\n",
    "manufactuers=definedDrive[\"manufacturer\"].unique()\n",
    "MostCommonDrivePerManu={}\n",
    "\n",
    "for manu in manufactuers:\n",
    "    #Get the subset of that manufactuer\n",
    "    manuSubset=definedDrive[definedDrive[\"manufacturer\"] == manu]\n",
    "    # Get the average number of cylinders for that column.\n",
    "    most_common_value = manuSubset[\"drive\"].value_counts().idxmax()\n",
    "    MostCommonDrivePerManu[manu]=most_common_value\n",
    "\n",
    "print(MostCommonDrivePerManu)\n"
   ]
  },
  {
   "cell_type": "code",
   "execution_count": 22,
   "id": "4452a5ab",
   "metadata": {},
   "outputs": [],
   "source": [
    "for manu in manufactuers:\n",
    "    data.loc[(data[\"manufacturer\"]==manu) & (data[\"drive\"].isna()),['drive']]=MostCommonDrivePerManu[manu]\n"
   ]
  },
  {
   "cell_type": "code",
   "execution_count": 23,
   "id": "86a490c9",
   "metadata": {},
   "outputs": [
    {
     "name": "stdout",
     "output_type": "stream",
     "text": [
      "4wd: 173316\n",
      "fwd: 161447\n",
      "rwd: 70831\n"
     ]
    }
   ],
   "source": [
    "unique_values = data[\"drive\"].unique()\n",
    "value_counts = data[\"drive\"].value_counts(dropna=False)\n",
    "\n",
    "for value in unique_values:\n",
    "    count = value_counts[value]\n",
    "    if pd.isna(value):\n",
    "        print(\"NaN: {} \".format(count))\n",
    "    else:\n",
    "        print(\"{}: {}\".format(value,count))"
   ]
  },
  {
   "cell_type": "markdown",
   "id": "245ae48e",
   "metadata": {},
   "source": [
    "Oslobodili smo varijablu **drive** od nedostajućih vrijednosti. Isto moramo napraviti i za varijablu **type**"
   ]
  },
  {
   "cell_type": "code",
   "execution_count": 24,
   "id": "755d2544",
   "metadata": {},
   "outputs": [
    {
     "data": {
      "text/plain": [
       "array(['pickup', 'truck', 'other', nan, 'coupe', 'SUV', 'hatchback',\n",
       "       'mini-van', 'sedan', 'offroad', 'bus', 'van', 'convertible',\n",
       "       'wagon'], dtype=object)"
      ]
     },
     "execution_count": 24,
     "metadata": {},
     "output_type": "execute_result"
    }
   ],
   "source": [
    "data['type'].unique()"
   ]
  },
  {
   "cell_type": "markdown",
   "id": "2d96e044",
   "metadata": {},
   "source": [
    "Opet vidimo prisutnost vrijednosti **other** u našem skupu, te s njom možemo zamijeniti nedostajuće vrijednosti."
   ]
  },
  {
   "cell_type": "code",
   "execution_count": 25,
   "id": "ed3943f2",
   "metadata": {},
   "outputs": [
    {
     "name": "stdout",
     "output_type": "stream",
     "text": [
      "pickup: 41232 \n",
      "truck: 33769 \n",
      "other: 20163 \n",
      "NaN: 88729 \n",
      "coupe: 18521 \n",
      "SUV: 72665 \n",
      "hatchback: 16175 \n",
      "mini-van: 4696 \n",
      "sedan: 83092 \n",
      "offroad: 587 \n",
      "bus: 505 \n",
      "van: 7701 \n",
      "convertible: 7461 \n",
      "wagon: 10298 \n"
     ]
    }
   ],
   "source": [
    "unique_values = data[\"type\"].unique()\n",
    "value_counts = data[\"type\"].value_counts(dropna=False)\n",
    "\n",
    "for value in unique_values:\n",
    "    count = value_counts[value]\n",
    "    if pd.isna(value):\n",
    "        print(\"NaN: {} \".format(count,round(count/data.shape[0],3)*100))\n",
    "    else:\n",
    "        print(\"{}: {} \".format(value,count, round(count/data.shape[0],3)*100))"
   ]
  },
  {
   "cell_type": "code",
   "execution_count": 26,
   "id": "8f8564d8",
   "metadata": {},
   "outputs": [],
   "source": [
    "data['type'] = data['type'].replace(np.nan, 'other')"
   ]
  },
  {
   "cell_type": "markdown",
   "id": "23d8b451",
   "metadata": {},
   "source": [
    "Posljednja varijabla koja traži rukovanje s null vrijednostima je condition"
   ]
  },
  {
   "cell_type": "code",
   "execution_count": 27,
   "id": "463e6e64",
   "metadata": {},
   "outputs": [
    {
     "data": {
      "text/plain": [
       "array(['good', 'excellent', 'fair', 'like new', nan, 'new', 'salvage'],\n",
       "      dtype=object)"
      ]
     },
     "execution_count": 27,
     "metadata": {},
     "output_type": "execute_result"
    }
   ],
   "source": [
    "data['condition'].unique()"
   ]
  },
  {
   "cell_type": "markdown",
   "id": "ff60f941",
   "metadata": {},
   "source": [
    "Prilikom zamijene NaN vrijednosti uzet ćemo u obzir starost vozila i vrijednost varijable \"odometar\". Grupirat ćemo skup u nove,stare i aute srednje dobi. Te unutar tih podskupova napraviti podjelu po tome kolika je vrijednost varijable odometar [higherODM, lowerODM]. Unutar tih 6 podjela izračunat ćemo mode varijable **condition** koje ćemo onda poslije koristiti za zamjenu NaN vrijednosti."
   ]
  },
  {
   "cell_type": "code",
   "execution_count": 28,
   "id": "00433226",
   "metadata": {},
   "outputs": [],
   "source": [
    "newCars=data[data['year']>2015]\n",
    "midCars=data[(data['year'] <=2015) &  (data['year'] > 2002) ]\n",
    "oldCars=data[data['year'] <= 2002]"
   ]
  },
  {
   "cell_type": "code",
   "execution_count": 29,
   "id": "d460686c",
   "metadata": {},
   "outputs": [
    {
     "name": "stdout",
     "output_type": "stream",
     "text": [
      "Older cars:  {'higherODM': 'good', 'lowerODM': 'excellent'}\n",
      "Mid cars:  {'higherODM': 'excellent', 'lowerODM': 'excellent'}\n",
      "New cars: {'higherODM': 'good', 'lowerODM': 'good'}\n"
     ]
    }
   ],
   "source": [
    "OldCarCondition={}\n",
    "oldCars_copy=oldCars.dropna(subset=['condition'])\n",
    "\n",
    "OldCarCondition[\"higherODM\"]=oldCars_copy[oldCars_copy['odometer']>oldCars_copy['odometer'].median()]['condition'].value_counts().idxmax()\n",
    "OldCarCondition[\"lowerODM\"]=oldCars_copy[oldCars_copy['odometer']<=oldCars_copy['odometer'].median()]['condition'].value_counts().idxmax()\n",
    "print(\"Older cars: \",OldCarCondition)\n",
    "\n",
    "\n",
    "MidCarCondition={}\n",
    "midCars_copy=midCars.dropna(subset=['condition'])\n",
    "\n",
    "MidCarCondition[\"higherODM\"]=midCars_copy[midCars_copy['odometer']>midCars_copy['odometer'].median()]['condition'].value_counts().idxmax()\n",
    "MidCarCondition[\"lowerODM\"]=midCars_copy[midCars_copy['odometer']<=midCars_copy['odometer'].median()]['condition'].value_counts().idxmax()\n",
    "print(\"Mid cars: \",MidCarCondition)\n",
    "\n",
    "\n",
    "NewCarCondition={}\n",
    "newCars_copy=newCars.dropna(subset=['condition'])\n",
    "\n",
    "NewCarCondition[\"higherODM\"]=newCars_copy[newCars_copy['odometer']>newCars_copy['odometer'].median()]['condition'].value_counts().idxmax()\n",
    "NewCarCondition[\"lowerODM\"]=newCars_copy[newCars_copy['odometer']<=newCars_copy['odometer'].median()]['condition'].value_counts().idxmax()\n",
    "print(\"New cars:\",NewCarCondition)\n"
   ]
  },
  {
   "cell_type": "code",
   "execution_count": 30,
   "id": "c29daf31",
   "metadata": {},
   "outputs": [],
   "source": [
    "data.loc[(data['year']>2015) & (data['odometer']>newCars_copy['odometer'].median()) & (data['condition'].isna()),['condition']]=NewCarCondition[\"higherODM\"]\n",
    "data.loc[(data['year']>2015) & (data['odometer']<=newCars_copy['odometer'].median()) & (data['condition'].isna()),['condition']]=NewCarCondition[\"lowerODM\"]\n",
    "\n",
    "data.loc[(data['year'] <=2015) &  (data['year'] > 2002) & (data['odometer']>midCars_copy['odometer'].median()) & (data['condition'].isna()),['condition']]=MidCarCondition[\"higherODM\"]\n",
    "data.loc[(data['year'] <=2015) &  (data['year'] > 2002) & (data['odometer']<=midCars_copy['odometer'].median()) & (data['condition'].isna()),['condition']]=MidCarCondition[\"lowerODM\"]\n",
    "\n",
    "data.loc[(data['year'] <= 2002) & (data['odometer']>oldCars_copy['odometer'].median()) & (data['condition'].isna()),['condition']]=OldCarCondition[\"higherODM\"]\n",
    "data.loc[(data['year'] <= 2002) & (data['odometer']<=oldCars_copy['odometer'].median()) & (data['condition'].isna()),['condition']]=OldCarCondition[\"lowerODM\"]"
   ]
  },
  {
   "cell_type": "code",
   "execution_count": 31,
   "id": "5369ddc2",
   "metadata": {},
   "outputs": [
    {
     "name": "stdout",
     "output_type": "stream",
     "text": [
      "good: 185401 times 45.7\n",
      "excellent: 190901 times 47.099999999999994\n",
      "fair: 6517 times 1.6\n",
      "like new: 20936 times 5.2\n",
      "new: 1257 times 0.3\n",
      "salvage: 582 times 0.1\n"
     ]
    }
   ],
   "source": [
    "unique_values = data[\"condition\"].unique()\n",
    "value_counts = data[\"condition\"].value_counts(dropna=False)\n",
    "\n",
    "for value in unique_values:\n",
    "    count = value_counts[value]\n",
    "    if pd.isna(value):\n",
    "        print(\"NaN: {} times {}\".format(count,round(count/data.shape[0],3)*100))\n",
    "    else:\n",
    "        print(\"{}: {} times {}\".format(value,count, round(count/data.shape[0],3)*100))"
   ]
  },
  {
   "cell_type": "markdown",
   "id": "99cb3139",
   "metadata": {},
   "source": [
    "## Stršeće vrijednosti."
   ]
  },
  {
   "cell_type": "markdown",
   "id": "e844000b",
   "metadata": {},
   "source": [
    "Pogledajmo prvo pobliže naš podatkovni skup."
   ]
  },
  {
   "cell_type": "code",
   "execution_count": 32,
   "id": "2c8e50ff",
   "metadata": {},
   "outputs": [
    {
     "name": "stdout",
     "output_type": "stream",
     "text": [
      "<class 'pandas.core.frame.DataFrame'>\n",
      "Index: 405594 entries, 27 to 426879\n",
      "Data columns (total 12 columns):\n",
      " #   Column        Non-Null Count   Dtype  \n",
      "---  ------        --------------   -----  \n",
      " 0   price         405594 non-null  int64  \n",
      " 1   year          405594 non-null  float64\n",
      " 2   manufacturer  405594 non-null  object \n",
      " 3   model         405594 non-null  object \n",
      " 4   condition     405594 non-null  object \n",
      " 5   cylinders     405594 non-null  int32  \n",
      " 6   fuel          405594 non-null  object \n",
      " 7   odometer      405594 non-null  float64\n",
      " 8   title_status  405594 non-null  object \n",
      " 9   transmission  405594 non-null  object \n",
      " 10  drive         405594 non-null  object \n",
      " 11  type          405594 non-null  object \n",
      "dtypes: float64(2), int32(1), int64(1), object(8)\n",
      "memory usage: 38.7+ MB\n"
     ]
    }
   ],
   "source": [
    "data.info()"
   ]
  },
  {
   "cell_type": "markdown",
   "id": "0a00f76e",
   "metadata": {},
   "source": [
    "Ispitajmo prvo prisutnost stršećih vrijednosti u numeričkim vrijednostima. Započnimo s varijablom **price**"
   ]
  },
  {
   "cell_type": "code",
   "execution_count": 33,
   "id": "55d5080e",
   "metadata": {},
   "outputs": [
    {
     "data": {
      "text/plain": [
       "count    4.055940e+05\n",
       "mean     6.276877e+04\n",
       "std      1.122406e+07\n",
       "min      0.000000e+00\n",
       "25%      5.994000e+03\n",
       "50%      1.399500e+04\n",
       "75%      2.659000e+04\n",
       "max      3.736929e+09\n",
       "Name: price, dtype: float64"
      ]
     },
     "execution_count": 33,
     "metadata": {},
     "output_type": "execute_result"
    }
   ],
   "source": [
    "data['price'].describe()"
   ]
  },
  {
   "cell_type": "code",
   "execution_count": 34,
   "id": "6bc1c2c0",
   "metadata": {},
   "outputs": [
    {
     "data": {
      "image/png": "[encoded data removed]",
      "text/plain": [
       "<Figure size 640x480 with 1 Axes>"
      ]
     },
     "metadata": {},
     "output_type": "display_data"
    }
   ],
   "source": [
    "# Create a box plot\n",
    "plt.boxplot(data['price'])\n",
    "\n",
    "# Set the title and labels\n",
    "plt.title('Box Plot of Price')\n",
    "plt.xlabel('Price')\n",
    "\n",
    "# Display the plot\n",
    "plt.show()"
   ]
  },
  {
   "cell_type": "markdown",
   "id": "66651451",
   "metadata": {},
   "source": [
    "Prisutnost outlier-a je kristalno jasna za varijablu price. Ovo je veoma problematično jer ovu varijablu je potrebno procijeniti. Zbog toga potrebno je izbrisati ekstremne slučajeve."
   ]
  },
  {
   "cell_type": "code",
   "execution_count": 35,
   "id": "7f795ed1",
   "metadata": {},
   "outputs": [],
   "source": [
    "q1 = data['price'].quantile(0.25)\n",
    "q3 = data['price'].quantile(0.75)\n",
    "iqr = q3 - q1\n",
    "\n",
    "lower_bound = data['price'].quantile(0.2) \n",
    "upper_bound = q3 + 1.5 * iqr\n",
    "\n",
    "df_without_outliers = data[(data['price'] < upper_bound) & (data['price'] > lower_bound)]"
   ]
  },
  {
   "cell_type": "code",
   "execution_count": 36,
   "id": "689719dc",
   "metadata": {},
   "outputs": [
    {
     "data": {
      "image/png": "[encoded data removed]",
      "text/plain": [
       "<Figure size 640x480 with 1 Axes>"
      ]
     },
     "metadata": {},
     "output_type": "display_data"
    }
   ],
   "source": [
    "# Create a box plot\n",
    "plt.boxplot(df_without_outliers['price'])\n",
    "\n",
    "# Set the title and labels\n",
    "plt.title('Box Plot of Price')\n",
    "plt.xlabel('Price')\n",
    "\n",
    "# Display the plot\n",
    "plt.show()"
   ]
  },
  {
   "cell_type": "markdown",
   "id": "e9aae44d",
   "metadata": {},
   "source": [
    "Vidljivo je poboljšanje u odnosu na prijašnji graf. Potrebno je spremiti te promijene."
   ]
  },
  {
   "cell_type": "code",
   "execution_count": 37,
   "id": "5917dd36",
   "metadata": {},
   "outputs": [],
   "source": [
    "data=df_without_outliers"
   ]
  },
  {
   "cell_type": "markdown",
   "id": "2725b5a8",
   "metadata": {},
   "source": [
    "Isto moramo napraviti i za varijablu **odometar**"
   ]
  },
  {
   "cell_type": "code",
   "execution_count": 38,
   "id": "6628ee3a",
   "metadata": {},
   "outputs": [
    {
     "data": {
      "text/plain": [
       "count    3.169120e+05\n",
       "mean     8.988550e+04\n",
       "std      1.422665e+05\n",
       "min      0.000000e+00\n",
       "25%      3.577775e+04\n",
       "50%      8.052050e+04\n",
       "75%      1.260000e+05\n",
       "max      1.000000e+07\n",
       "Name: odometer, dtype: float64"
      ]
     },
     "execution_count": 38,
     "metadata": {},
     "output_type": "execute_result"
    }
   ],
   "source": [
    "data['odometer'].describe()"
   ]
  },
  {
   "cell_type": "code",
   "execution_count": 39,
   "id": "9d4bb4a5",
   "metadata": {},
   "outputs": [
    {
     "data": {
      "image/png": "[encoded data removed]",
      "text/plain": [
       "<Figure size 640x480 with 1 Axes>"
      ]
     },
     "metadata": {},
     "output_type": "display_data"
    }
   ],
   "source": [
    "# Create a box plot\n",
    "plt.boxplot(data['odometer'])\n",
    "\n",
    "# Set the title and labels\n",
    "plt.title('Box Plot of odometer')\n",
    "plt.xlabel('odometer')\n",
    "\n",
    "# Display the plot\n",
    "plt.show()"
   ]
  },
  {
   "cell_type": "markdown",
   "id": "cba1f640",
   "metadata": {},
   "source": [
    "Još jedna varijabla s izraženim outlierima. Za uklanjanje upotrijebit ćemo IQR metodu"
   ]
  },
  {
   "cell_type": "code",
   "execution_count": 40,
   "id": "f80f226f",
   "metadata": {},
   "outputs": [],
   "source": [
    "# Method 2: IQR Method\n",
    "q1 = data['odometer'].quantile(0.25)\n",
    "q3 = data['odometer'].quantile(0.75)\n",
    "iqr = q3 - q1\n",
    "\n",
    "lower_bound = q1 - 1.5 * iqr\n",
    "upper_bound = q3 + 1.5 * iqr\n",
    "\n",
    "df_without_outliers = data[(data['odometer'] < upper_bound) & (data['odometer'] > lower_bound)]"
   ]
  },
  {
   "cell_type": "code",
   "execution_count": 41,
   "id": "f1ecca7c",
   "metadata": {},
   "outputs": [],
   "source": [
    "data=df_without_outliers"
   ]
  },
  {
   "cell_type": "markdown",
   "id": "353c90cd",
   "metadata": {},
   "source": [
    "Pogledajmo sada ponašanje diskretne varijable **year**"
   ]
  },
  {
   "cell_type": "code",
   "execution_count": 42,
   "id": "8167ea3f",
   "metadata": {},
   "outputs": [
    {
     "name": "stdout",
     "output_type": "stream",
     "text": [
      "There are  8116  cars older than 1990\n",
      "There are  305680  that were manufactured after 1990\n"
     ]
    }
   ],
   "source": [
    "unique_values = data[\"year\"].unique()\n",
    "value_counts = data[\"year\"].value_counts(dropna=False)\n",
    "unique_values.sort()\n",
    "reallyOldCars=data[data['year']<1990]\n",
    "newCarsCars=data[data['year']>=1990]\n",
    "\n",
    "print(\"There are \",reallyOldCars.shape[0],\" cars older than 1990\")\n",
    "print(\"There are \",newCarsCars.shape[0] ,\" that were manufactured after 1990\") \n"
   ]
  },
  {
   "cell_type": "markdown",
   "id": "ae025b73",
   "metadata": {},
   "source": [
    "Većina zapisa su noviji automobili, stoga starije automobile možemo smatrati kao stršećim vrijednostima te fokusirati se samo na novije zapise."
   ]
  },
  {
   "cell_type": "code",
   "execution_count": 43,
   "id": "cbc8aa44",
   "metadata": {},
   "outputs": [],
   "source": [
    "data=data[data['year']>=1990]"
   ]
  },
  {
   "cell_type": "code",
   "execution_count": 44,
   "id": "fa8e6ccd",
   "metadata": {},
   "outputs": [
    {
     "data": {
      "text/plain": [
       "(305680, 12)"
      ]
     },
     "execution_count": 44,
     "metadata": {},
     "output_type": "execute_result"
    }
   ],
   "source": [
    "data.shape"
   ]
  },
  {
   "cell_type": "markdown",
   "id": "916aeb50",
   "metadata": {},
   "source": [
    "Gotovi smo s analizom podataka, sada je potrebno kategoričke podatke obraditi kako bismo ih mogli koristi prilikom ML modela."
   ]
  },
  {
   "cell_type": "markdown",
   "id": "f32b0c4d",
   "metadata": {},
   "source": [
    "## Obrada podataka"
   ]
  },
  {
   "cell_type": "markdown",
   "id": "0d6c9b8a",
   "metadata": {},
   "source": [
    "Pogledajmo s kakvim tipovima podataka radimo."
   ]
  },
  {
   "cell_type": "code",
   "execution_count": 45,
   "id": "3e90110f",
   "metadata": {},
   "outputs": [
    {
     "name": "stdout",
     "output_type": "stream",
     "text": [
      "<class 'pandas.core.frame.DataFrame'>\n",
      "Index: 305680 entries, 27 to 426879\n",
      "Data columns (total 12 columns):\n",
      " #   Column        Non-Null Count   Dtype  \n",
      "---  ------        --------------   -----  \n",
      " 0   price         305680 non-null  int64  \n",
      " 1   year          305680 non-null  float64\n",
      " 2   manufacturer  305680 non-null  object \n",
      " 3   model         305680 non-null  object \n",
      " 4   condition     305680 non-null  object \n",
      " 5   cylinders     305680 non-null  int32  \n",
      " 6   fuel          305680 non-null  object \n",
      " 7   odometer      305680 non-null  float64\n",
      " 8   title_status  305680 non-null  object \n",
      " 9   transmission  305680 non-null  object \n",
      " 10  drive         305680 non-null  object \n",
      " 11  type          305680 non-null  object \n",
      "dtypes: float64(2), int32(1), int64(1), object(8)\n",
      "memory usage: 29.2+ MB\n"
     ]
    }
   ],
   "source": [
    "data.info()"
   ]
  },
  {
   "cell_type": "markdown",
   "id": "b23bbb8a",
   "metadata": {},
   "source": [
    "Tip \"object\", nažalost nije podržan za regresijski model strojnog učenja s toga je potrebno detaljnije obradit te varijable."
   ]
  },
  {
   "cell_type": "markdown",
   "id": "dfd4fd28",
   "metadata": {},
   "source": [
    "Procedura obrade koju je potrebno obradit se zove **ENCODING** , te koristi ćemo **ONE-HOT ENCODING** i **ORDINAL ENCODING**"
   ]
  },
  {
   "cell_type": "markdown",
   "id": "f3aefd7a",
   "metadata": {},
   "source": [
    "One-hot encoding je tehnika pretvorbe kategoričkih varijabli u numerički oblik kako bi ih bilo moguće koristiti u strojnom učenju ili analizi podataka. Kada se koristi one-hot encoding, svaka jedinstvena vrijednost kategoričke varijable predstavljena je kao posebna binarna varijabla.\n",
    "\n",
    "Na primjer, ako imamo kategoričku varijablu \"boja\" s mogućim vrijednostima \"crvena\", \"plava\" i \"zelena\", one-hot encoding će pretvoriti tu varijablu u tri nova stupca: \"crvena\", \"plava\" i \"zelena\". Za svaki redak podataka, samo jedan od tih stupaca će imati vrijednost 1, dok će ostali biti postavljeni na 0.\n",
    "\n",
    "Ova tehnika omogućava strojnom učenju da tretira kategoričke varijable kao numeričke, što je često potrebno jer mnogi algoritmi strojnog učenja rade samo s numeričkim podacima. One-hot encoding također pomaže u izbjegavanju pretpostavki o redoslijedu ili rasporedu kategoričkih vrijednosti, jer se svaka vrijednost tretira kao neovisna varijabla.\n",
    "\n",
    "One-hot encoding se može primijeniti na različite kategoričke varijable, poput boja, kategorija proizvoda, regija ili bilo kojeg drugog atributa koji je diskretne prirode."
   ]
  },
  {
   "cell_type": "markdown",
   "id": "6b62ef58",
   "metadata": {},
   "source": [
    "Započnimo s varijablom **manufacturer**"
   ]
  },
  {
   "cell_type": "code",
   "execution_count": 46,
   "id": "aa1ae4a4",
   "metadata": {},
   "outputs": [],
   "source": [
    "data_copy=data.copy()\n",
    "manufacturer_encoded = pd.get_dummies(data['manufacturer'], prefix='manufacturer',dtype=int64)\n",
    "\n",
    "# Concatenate the encoded columns with the original DataFrame\n",
    "data_copy = pd.concat([data, manufacturer_encoded], axis=1)\n",
    "\n",
    "# Drop the original 'manufacturer' column if desired\n",
    "data_copy.drop('manufacturer', axis=1, inplace=True)\n",
    "\n",
    "data_copy=data_copy.reset_index(drop=True)"
   ]
  },
  {
   "cell_type": "markdown",
   "id": "acd13139",
   "metadata": {},
   "source": [
    "Varijablu **condition** ćemo obraditi putem **Ordinal Encoding** operacije. Razlog zašto se ovdje koristi Ordinal encoding je taj što postoji hijerarhijski odnos između vrijednosti ove varijable."
   ]
  },
  {
   "cell_type": "markdown",
   "id": "cc6ba844",
   "metadata": {},
   "source": [
    "Ordinal encoding je tehnika pretvorbe kategoričkih varijabli u numerički oblik, ali za razliku od one-hot encodinga, zadržava informaciju o redoslijedu ili rasporedu kategoričkih vrijednosti. Kod ordinal encodinga, svakoj jedinstvenoj vrijednosti kategoričke varijable dodjeljuje se jedan odgovarajući brojčani kod.\n",
    "\n",
    "Na primjer, ako imamo kategoričku varijablu \"veličina\" s mogućim vrijednostima \"mali\", \"srednji\" i \"veliki\", ordinal encoding bi mogao dodijeliti brojevne kodove \"0\", \"1\" i \"2\" tim vrijednostima, respektivno. Ova tehnika zadržava informaciju o relativnom redoslijedu veličina, tako da će algoritmi strojnog učenja koji koriste takve kodirane vrijednosti moći razumjeti tu hijerarhiju.\n",
    "\n",
    "Ordinal encoding je koristan kada postoji prirodan redoslijed ili raspored među kategoričkim vrijednostima. Na primjer, rangiranje ocjena od \"loše\" do \"izvrsno\" ili stupnjevanje starosti od \"mlad\" do \"star\". Ova tehnika je jednostavna za primjenu i može biti korisna u mnogim scenarijima analize podataka."
   ]
  },
  {
   "cell_type": "code",
   "execution_count": 47,
   "id": "578be1db",
   "metadata": {},
   "outputs": [],
   "source": [
    "from sklearn.preprocessing import OrdinalEncoder\n",
    "\n",
    "# Assuming 'df' is your DataFrame and 'column_name' is the column you want to encode\n",
    "column_data = data_copy[['condition']]\n",
    "\n",
    "# Define the order of categories\n",
    "category_order = ['new', 'like new', 'excellent','good','fair','salvage']\n",
    "\n",
    "# Initialize the OrdinalEncoder with the specified order\n",
    "encoder = OrdinalEncoder(categories=[['salvage', 'fair', 'good', 'excellent', 'like new', 'new']])\n",
    "\n",
    "# Fit and transform the column data\n",
    "encoded_data = encoder.fit_transform(column_data)\n",
    "\n",
    "# Create a new DataFrame with the encoded values\n",
    "df_encoded = pd.DataFrame(encoded_data, columns=['condition'])\n",
    "data_copy.drop('condition', axis=1, inplace=True)\n",
    "# Concatenate the encoded DataFrame with the original DataFrame\n",
    "data_copy = pd.concat([data_copy, df_encoded],axis=1)\n"
   ]
  },
  {
   "cell_type": "markdown",
   "id": "626eda1b",
   "metadata": {},
   "source": [
    "Varijable **fuel**,**type**,**transmission**,**drive** ćemo također obraditi putem OHE operacije."
   ]
  },
  {
   "cell_type": "code",
   "execution_count": 48,
   "id": "fedb63e1",
   "metadata": {},
   "outputs": [],
   "source": [
    "#FUEL\n",
    "data_copy=data_copy.reset_index(drop=True)\n",
    "fuel_encoded = pd.get_dummies(data_copy['fuel'], prefix='fuel',dtype=int64)\n",
    "\n",
    "# Concatenate the encoded columns with the original DataFrame\n",
    "data_copy = pd.concat([data_copy, fuel_encoded], axis=1)\n",
    "\n",
    "# Drop the original 'fuel' column if desired\n",
    "data_copy.drop('fuel', axis=1, inplace=True)\n",
    "\n",
    "#TYPE\n",
    "data_copy=data_copy.reset_index(drop=True)\n",
    "type_encoded = pd.get_dummies(data_copy['type'], prefix='type',dtype=int64)\n",
    "\n",
    "# Concatenate the encoded columns with the original DataFrame\n",
    "data_copy = pd.concat([data_copy, type_encoded], axis=1)\n",
    "\n",
    "# Drop the original 'manufacturer' column if desired\n",
    "data_copy.drop('type', axis=1, inplace=True)\n",
    "\n",
    "#TRANSMISSION\n",
    "data_copy=data_copy.reset_index(drop=True)\n",
    "trans_encoded = pd.get_dummies(data_copy['transmission'], prefix='transmission',dtype=int64)\n",
    "\n",
    "# Concatenate the encoded columns with the original DataFrame\n",
    "data_copy = pd.concat([data_copy, trans_encoded], axis=1)\n",
    "\n",
    "# Drop the original 'manufacturer' column if desired\n",
    "data_copy.drop('transmission', axis=1, inplace=True)\n",
    "\n",
    "#DRIVE\n",
    "data_copy=data_copy.reset_index(drop=True)\n",
    "drive_encoded = pd.get_dummies(data_copy['drive'], prefix='drive',dtype=int64)\n",
    "\n",
    "# Concatenate the encoded columns with the original DataFrame\n",
    "data_copy = pd.concat([data_copy, drive_encoded], axis=1)\n",
    "\n",
    "# Drop the original 'manufacturer' column if desired\n",
    "data_copy.drop('drive', axis=1, inplace=True)\n"
   ]
  },
  {
   "cell_type": "code",
   "execution_count": 49,
   "id": "c7fc9565",
   "metadata": {},
   "outputs": [
    {
     "name": "stdout",
     "output_type": "stream",
     "text": [
      "<class 'pandas.core.frame.DataFrame'>\n",
      "RangeIndex: 305680 entries, 0 to 305679\n",
      "Data columns (total 46 columns):\n",
      " #   Column                      Non-Null Count   Dtype  \n",
      "---  ------                      --------------   -----  \n",
      " 0   price                       305680 non-null  int64  \n",
      " 1   year                        305680 non-null  float64\n",
      " 2   model                       305680 non-null  object \n",
      " 3   cylinders                   305680 non-null  int32  \n",
      " 4   odometer                    305680 non-null  float64\n",
      " 5   title_status                305680 non-null  object \n",
      " 6   manufacturer_bmw            305680 non-null  int64  \n",
      " 7   manufacturer_chevrolet      305680 non-null  int64  \n",
      " 8   manufacturer_dodge          305680 non-null  int64  \n",
      " 9   manufacturer_ford           305680 non-null  int64  \n",
      " 10  manufacturer_gmc            305680 non-null  int64  \n",
      " 11  manufacturer_honda          305680 non-null  int64  \n",
      " 12  manufacturer_hyundai        305680 non-null  int64  \n",
      " 13  manufacturer_jeep           305680 non-null  int64  \n",
      " 14  manufacturer_mercedes-benz  305680 non-null  int64  \n",
      " 15  manufacturer_nissan         305680 non-null  int64  \n",
      " 16  manufacturer_others         305680 non-null  int64  \n",
      " 17  manufacturer_ram            305680 non-null  int64  \n",
      " 18  manufacturer_subaru         305680 non-null  int64  \n",
      " 19  manufacturer_toyota         305680 non-null  int64  \n",
      " 20  manufacturer_volkswagen     305680 non-null  int64  \n",
      " 21  condition                   305680 non-null  float64\n",
      " 22  fuel_diesel                 305680 non-null  int64  \n",
      " 23  fuel_electric               305680 non-null  int64  \n",
      " 24  fuel_gas                    305680 non-null  int64  \n",
      " 25  fuel_hybrid                 305680 non-null  int64  \n",
      " 26  fuel_other                  305680 non-null  int64  \n",
      " 27  type_SUV                    305680 non-null  int64  \n",
      " 28  type_bus                    305680 non-null  int64  \n",
      " 29  type_convertible            305680 non-null  int64  \n",
      " 30  type_coupe                  305680 non-null  int64  \n",
      " 31  type_hatchback              305680 non-null  int64  \n",
      " 32  type_mini-van               305680 non-null  int64  \n",
      " 33  type_offroad                305680 non-null  int64  \n",
      " 34  type_other                  305680 non-null  int64  \n",
      " 35  type_pickup                 305680 non-null  int64  \n",
      " 36  type_sedan                  305680 non-null  int64  \n",
      " 37  type_truck                  305680 non-null  int64  \n",
      " 38  type_van                    305680 non-null  int64  \n",
      " 39  type_wagon                  305680 non-null  int64  \n",
      " 40  transmission_automatic      305680 non-null  int64  \n",
      " 41  transmission_manual         305680 non-null  int64  \n",
      " 42  transmission_other          305680 non-null  int64  \n",
      " 43  drive_4wd                   305680 non-null  int64  \n",
      " 44  drive_fwd                   305680 non-null  int64  \n",
      " 45  drive_rwd                   305680 non-null  int64  \n",
      "dtypes: float64(3), int32(1), int64(40), object(2)\n",
      "memory usage: 106.1+ MB\n"
     ]
    }
   ],
   "source": [
    "data_copy.info()"
   ]
  },
  {
   "cell_type": "markdown",
   "id": "2c621c5c",
   "metadata": {},
   "source": [
    "Pogledajmo pobliže varijablu **title_status**"
   ]
  },
  {
   "cell_type": "code",
   "execution_count": 50,
   "id": "2e558b84",
   "metadata": {},
   "outputs": [
    {
     "data": {
      "text/plain": [
       "array(['clean', 'rebuilt', 'lien', 'salvage', 'missing', 'parts only'],\n",
       "      dtype=object)"
      ]
     },
     "execution_count": 50,
     "metadata": {},
     "output_type": "execute_result"
    }
   ],
   "source": [
    "data_copy['title_status'].unique()"
   ]
  },
  {
   "cell_type": "markdown",
   "id": "9a6f4ae9",
   "metadata": {},
   "source": [
    "Veoma je slična varijabli **condition** koju smo već obradili, stoga ćemo ju izostaviti. "
   ]
  },
  {
   "cell_type": "code",
   "execution_count": 51,
   "id": "16072f65",
   "metadata": {},
   "outputs": [],
   "source": [
    "data_copy.drop('title_status', axis=1, inplace=True)"
   ]
  },
  {
   "cell_type": "markdown",
   "id": "3a539454",
   "metadata": {},
   "source": [
    "Pogledajmo magnitudu varijable **model**"
   ]
  },
  {
   "cell_type": "code",
   "execution_count": 52,
   "id": "b62173cf",
   "metadata": {},
   "outputs": [
    {
     "data": {
      "text/plain": [
       "19325"
      ]
     },
     "execution_count": 52,
     "metadata": {},
     "output_type": "execute_result"
    }
   ],
   "source": [
    "len(data_copy['model'].unique())"
   ]
  },
  {
   "cell_type": "markdown",
   "id": "840f662c",
   "metadata": {},
   "source": [
    "**Model** varijabla može biti odličan prediktor cijene jednog automobila, ali zbog ogromne količine različitih modela u našem skupu moramo izbrisati ovu varijablu."
   ]
  },
  {
   "cell_type": "code",
   "execution_count": 53,
   "id": "a604265d",
   "metadata": {},
   "outputs": [],
   "source": [
    "data_copy.drop('model', axis=1, inplace=True)"
   ]
  },
  {
   "cell_type": "markdown",
   "id": "4bfab930",
   "metadata": {},
   "source": [
    "## Keriranje značajki"
   ]
  },
  {
   "cell_type": "markdown",
   "id": "8d211282",
   "metadata": {},
   "source": [
    "Prvenstveno uvest ćemo značajku **age** koja će predstavljati starost vozila."
   ]
  },
  {
   "cell_type": "code",
   "execution_count": 54,
   "id": "4e72a41a",
   "metadata": {},
   "outputs": [],
   "source": [
    "data_copy['age'] = 2023.0 - data_copy['year']"
   ]
  },
  {
   "cell_type": "code",
   "execution_count": 55,
   "id": "2afef285",
   "metadata": {},
   "outputs": [],
   "source": [
    "data_copy['age']=data_copy['age'].astype(int)\n",
    "data_copy['year']=data_copy['year'].astype(int)"
   ]
  },
  {
   "cell_type": "markdown",
   "id": "102ee33a",
   "metadata": {},
   "source": [
    "Pogledajmo postoji li korelacija između naših varijabli visoka kolinearnost"
   ]
  },
  {
   "cell_type": "code",
   "execution_count": 56,
   "id": "3143373f",
   "metadata": {},
   "outputs": [
    {
     "data": {
      "image/png": "[encoded data removed]",
      "text/plain": [
       "<Figure size 1000x800 with 2 Axes>"
      ]
     },
     "metadata": {},
     "output_type": "display_data"
    }
   ],
   "source": [
    "import pandas as pd\n",
    "import seaborn as sns\n",
    "import matplotlib.pyplot as plt\n",
    "\n",
    "# Assuming you have a DataFrame called 'df' with your data\n",
    "\n",
    "subset=data_copy[['cylinders','year','odometer','age']]\n",
    "# Calculate the correlation matrix\n",
    "corr_matrix = subset.corr()\n",
    "\n",
    "# Create a heatmap using seaborn\n",
    "plt.figure(figsize=(10, 8))\n",
    "sns.heatmap(corr_matrix, annot=True, cmap='coolwarm', fmt=\".2f\", linewidths=0.5)\n",
    "plt.title(\"Correlation Matrix\")\n",
    "plt.show()"
   ]
  },
  {
   "cell_type": "markdown",
   "id": "fbebf099",
   "metadata": {},
   "source": [
    "Najveća korelacija je između značajki **age** i **odometer**, stoga ćemo stvoriti novu značajku koja će povezati te dvije vrijednosti. "
   ]
  },
  {
   "cell_type": "code",
   "execution_count": 57,
   "id": "96415b34",
   "metadata": {},
   "outputs": [],
   "source": [
    "data_copy['odometer*age']=round(data_copy['odometer']/data_copy['age'],2)"
   ]
  },
  {
   "cell_type": "code",
   "execution_count": 58,
   "id": "d47ff4f9",
   "metadata": {},
   "outputs": [
    {
     "data": {
      "image/png": "[encoded data removed]",
      "text/plain": [
       "<Figure size 1000x800 with 2 Axes>"
      ]
     },
     "metadata": {},
     "output_type": "display_data"
    }
   ],
   "source": [
    "import pandas as pd\n",
    "import seaborn as sns\n",
    "import matplotlib.pyplot as plt\n",
    "\n",
    "# Assuming you have a DataFrame called 'df' with your data\n",
    "\n",
    "subset=data_copy[['cylinders','year','odometer','age','odometer*age']]\n",
    "# Calculate the correlation matrix\n",
    "corr_matrix = subset.corr()\n",
    "\n",
    "# Create a heatmap using seaborn\n",
    "plt.figure(figsize=(10, 8))\n",
    "sns.heatmap(corr_matrix, annot=True, cmap='coolwarm', fmt=\".2f\", linewidths=0.5)\n",
    "plt.title(\"Correlation Matrix\")\n",
    "plt.show()"
   ]
  },
  {
   "cell_type": "markdown",
   "id": "f3f77283",
   "metadata": {},
   "source": [
    "Zbog velike korelacije i redundantnosti između značajki **odometer** i **ageXodometer** izbacit ćemo varijablu **odometer**"
   ]
  },
  {
   "cell_type": "code",
   "execution_count": 59,
   "id": "665ec244",
   "metadata": {},
   "outputs": [],
   "source": [
    "data_copy.drop('odometer', axis=1, inplace=True)"
   ]
  },
  {
   "cell_type": "markdown",
   "id": "39c83b34",
   "metadata": {},
   "source": [
    "## Normalizacija varijabli"
   ]
  },
  {
   "cell_type": "markdown",
   "id": "6bf6f068",
   "metadata": {},
   "source": [
    "Imamo varijable različite magnitude u našem skupu.Potrebno je normalizirati te značajke kako bi naš model što bolje predviđao cijenu automobila."
   ]
  },
  {
   "cell_type": "code",
   "execution_count": 60,
   "id": "1b4a8106",
   "metadata": {},
   "outputs": [],
   "source": [
    "# Create an instance of StandardScaler\n",
    "from sklearn.preprocessing import StandardScaler\n",
    "scaler = StandardScaler()\n",
    "\n",
    "# Fit the scaler to the data\n",
    "scaler.fit(data_copy[['age']])\n",
    "# Transform the data using the scaler\n",
    "data_copy['age'] = scaler.transform(data_copy[['age']])\n",
    "\n",
    "# Fit the scaler to the data\n",
    "#scaler.fit(data_copy[['odometer']])\n",
    "# Transform the data using the scaler\n",
    "#data_copy['odometer'] = scaler.transform(data_copy[['odometer']])\n",
    "\n",
    "# Fit the scaler to the data\n",
    "scaler.fit(data_copy[['year']])\n",
    "# Transform the data using the scaler\n",
    "data_copy['year'] = scaler.transform(data_copy[['year']])\n",
    "\n",
    " #Fit the scaler to the data\n",
    "scaler.fit(data_copy[['odometer*age']])\n",
    "# Transform the data using the scaler\n",
    "data_copy['odometer*age'] = scaler.transform(data_copy[['odometer*age']])\n",
    "\n"
   ]
  },
  {
   "cell_type": "markdown",
   "id": "f09d3f07",
   "metadata": {},
   "source": [
    "## Podijela na skup za testiranje i treniranje"
   ]
  },
  {
   "cell_type": "markdown",
   "id": "1928d4e5",
   "metadata": {},
   "source": [
    "U ovom koraku je potrebno podijeliti skup na train, test i takvog ga poslati dalje na treniranje modela.\n",
    "Odabrana je 70:30 podjela, te GridSearch će biti obavljen na train setu u svrhu pronalaska najboljeg modela."
   ]
  },
  {
   "cell_type": "code",
   "execution_count": 61,
   "id": "2fb324e5",
   "metadata": {},
   "outputs": [],
   "source": [
    "y=data_copy['price']\n",
    "X=data_copy.drop('price',axis=1)\n",
    "\n",
    "X=X.sort_index(axis=1)"
   ]
  },
  {
   "cell_type": "code",
   "execution_count": 62,
   "id": "7cb4b5fa",
   "metadata": {},
   "outputs": [],
   "source": [
    "from sklearn.model_selection import train_test_split\n",
    "X_train, X_test, y_train, y_test = train_test_split(X, y, test_size=0.3, random_state=42)"
   ]
  },
  {
   "cell_type": "markdown",
   "id": "f526f07b",
   "metadata": {},
   "source": [
    "# 2. Treniranje i odabir modela strojnog učenja"
   ]
  },
  {
   "cell_type": "markdown",
   "id": "09101ad4",
   "metadata": {},
   "source": [
    "## Linear Regression"
   ]
  },
  {
   "cell_type": "code",
   "execution_count": 63,
   "id": "10601951",
   "metadata": {},
   "outputs": [
    {
     "name": "stdout",
     "output_type": "stream",
     "text": [
      "Train Mean Squared Error: 49537644.03905812\n",
      "Test Mean Squared Error: 48947515.74145314\n",
      "Train MAE: 5283.322544350768\n",
      "Test MAE: 5253.895983272268\n",
      "Test R2 Score: 0.6586534454173778\n"
     ]
    }
   ],
   "source": [
    "# Create and train the linear regression model\n",
    "from sklearn.linear_model import LinearRegression\n",
    "from sklearn.metrics import mean_squared_error, mean_absolute_error, r2_score\n",
    "model = LinearRegression()\n",
    "model.fit(X_train, y_train)\n",
    "\n",
    "# Make predictions on the training and testing data\n",
    "y_train_pred = model.predict(X_train)\n",
    "y_test_pred = model.predict(X_test)\n",
    "\n",
    "# Evaluate the model using mean squared error\n",
    "train_error = mean_squared_error(y_train, y_train_pred)\n",
    "test_error = mean_squared_error(y_test, y_test_pred)\n",
    "\n",
    "# Print the mean squared error\n",
    "print(\"Train Mean Squared Error:\", train_error)\n",
    "print(\"Test Mean Squared Error:\", test_error) \n",
    "\n",
    "\n",
    "r2_train = r2_score(y_train, y_train_pred)\n",
    "r2_test = r2_score(y_test, y_test_pred)\n",
    "\n",
    "# Calculate mean absolute error\n",
    "mae_train = mean_absolute_error(y_train, y_train_pred)\n",
    "mae_test = mean_absolute_error(y_test, y_test_pred)\n",
    "\n",
    "# Calculate RMSE (Root Mean Squared Error)\n",
    "rmse = np.sqrt(mean_squared_error(y_test, y_test_pred))\n",
    "\n",
    "# Calculate MAE (Mean Absolute Error)\n",
    "mae = mean_absolute_error(y_test, y_test_pred)\n",
    "\n",
    "\n",
    "# Print the evaluation metrics\n",
    "print(\"Train MAE:\", mae_train)\n",
    "print(\"Test MAE:\", mae_test)\n",
    "print(\"Test R2 Score:\", r2_test)"
   ]
  },
  {
   "cell_type": "markdown",
   "id": "8c22da8c",
   "metadata": {},
   "source": [
    "## Ridge Regression"
   ]
  },
  {
   "cell_type": "code",
   "execution_count": 64,
   "id": "390df785",
   "metadata": {},
   "outputs": [
    {
     "name": "stdout",
     "output_type": "stream",
     "text": [
      "Best Hyperparameters: {'alpha': 5.0}\n",
      "Mean Squared Error: 48947504.22237762\n",
      "R2 Score: 0.6586535257482522\n"
     ]
    }
   ],
   "source": [
    "from sklearn.linear_model import Ridge\n",
    "from sklearn.model_selection import GridSearchCV\n",
    "\n",
    "# Define the Ridge regression model\n",
    "ridge = Ridge()\n",
    "\n",
    "# Define the hyperparameter grid for GridSearchCV\n",
    "param_grid = {'alpha': [0.1, 1.0,5.0, 10.0]}\n",
    "\n",
    "# Perform grid search with cross-validation\n",
    "grid_search = GridSearchCV(estimator=ridge, param_grid=param_grid, cv=5)\n",
    "grid_search.fit(X_train, y_train)\n",
    "\n",
    "# Get the best model\n",
    "best_ridge_model = grid_search.best_estimator_\n",
    "\n",
    "# Make predictions on the test set using the best model\n",
    "y_pred = best_ridge_model.predict(X_test)\n",
    "\n",
    "# Evaluate the model performance\n",
    "mse = mean_squared_error(y_test, y_pred)\n",
    "r2 = r2_score(y_test, y_pred)\n",
    "\n",
    "# Print the best hyperparameters and model performance\n",
    "print(\"Best Hyperparameters:\", grid_search.best_params_)\n",
    "print(\"Mean Squared Error:\", mse)\n",
    "print(\"R2 Score:\", r2)\n"
   ]
  },
  {
   "cell_type": "markdown",
   "id": "cb15de7f",
   "metadata": {},
   "source": [
    "## Lasso Regression"
   ]
  },
  {
   "cell_type": "code",
   "execution_count": 65,
   "id": "b0d9740d",
   "metadata": {},
   "outputs": [
    {
     "name": "stdout",
     "output_type": "stream",
     "text": [
      "Best Parameters: {'alpha': 0.1}\n",
      "Mean Squared Error: 48947445.27482068\n",
      "R2 Score: 0.6586539368323524\n",
      "RMSE: 6996.245083959015\n",
      "MAE: 5252.910357493012\n",
      "R-squared: 0.6586539368323524\n"
     ]
    }
   ],
   "source": [
    "from sklearn.linear_model import Lasso\n",
    "\n",
    "# Create an instance of Lasso Regression\n",
    "lasso_model = Lasso(tol=0.001)\n",
    "\n",
    "# Define the parameter grid for GridSearchCV\n",
    "param_grid = {'alpha': [0.1, 1.0,5.0, 10.0]}  # Example values, adjust as needed\n",
    "\n",
    "# Create an instance of GridSearchCV\n",
    "grid_search = GridSearchCV(estimator=lasso_model, param_grid=param_grid, cv=5)\n",
    "\n",
    "# Fit the GridSearchCV on the training data\n",
    "grid_search.fit(X_train, y_train)\n",
    "\n",
    "# Get the best model from the grid search\n",
    "best_Lasso_model = grid_search.best_estimator_\n",
    "\n",
    "# Predict on the test data using the best model\n",
    "y_pred = best_Lasso_model.predict(X_test)\n",
    "\n",
    "# Print the best parameters found by GridSearchCV\n",
    "print(\"Best Parameters:\", grid_search.best_params_)\n",
    "\n",
    "# Calculate the mean squared error\n",
    "mse = mean_squared_error(y_test, y_pred)\n",
    "print(\"Mean Squared Error:\", mse)\n",
    "\n",
    "\n",
    "r2 = r2_score(y_test, y_pred)\n",
    "print(\"R2 Score:\", r2)\n",
    "\n",
    "# Calculate RMSE (Root Mean Squared Error)\n",
    "rmse = np.sqrt(mean_squared_error(y_test, y_pred))\n",
    "\n",
    "# Calculate MAE (Mean Absolute Error)\n",
    "mae = mean_absolute_error(y_test, y_pred)\n",
    "\n",
    "# Calculate R-squared\n",
    "r2 = r2_score(y_test, y_pred)\n",
    "\n",
    "# Print the results\n",
    "print(\"RMSE:\", rmse)\n",
    "print(\"MAE:\", mae)\n",
    "print(\"R-squared:\", r2)"
   ]
  },
  {
   "cell_type": "markdown",
   "id": "79c32d60",
   "metadata": {},
   "source": [
    "## Decision Tree Regression"
   ]
  },
  {
   "cell_type": "code",
   "execution_count": 66,
   "id": "03ee4825",
   "metadata": {},
   "outputs": [
    {
     "name": "stdout",
     "output_type": "stream",
     "text": [
      "Mean Squared Error: 27822464.7550223\n",
      "Best Parameters: {'max_depth': 15}\n",
      "R2 Score: 0.8059737590302197\n",
      "RMSE: 5274.700442207339\n",
      "MAE: 3402.7241212185686\n",
      "R-squared: 0.8059737590302197\n"
     ]
    }
   ],
   "source": [
    "from sklearn.tree import DecisionTreeRegressor\n",
    "from sklearn.model_selection import train_test_split, GridSearchCV\n",
    "from sklearn.metrics import mean_squared_error\n",
    "\n",
    "# Create an instance of Decision Tree Regression\n",
    "dt_model = DecisionTreeRegressor()\n",
    "\n",
    "# Define the parameter grid for GridSearchCV\n",
    "param_grid = {'max_depth': [7,9,12,15]}  # Example values, adjust as needed\n",
    "\n",
    "# Create an instance of GridSearchCV\n",
    "grid_search = GridSearchCV(estimator=dt_model, param_grid=param_grid, cv=5)\n",
    "\n",
    "# Fit the GridSearchCV on the training data\n",
    "grid_search.fit(X_train, y_train)\n",
    "\n",
    "# Get the best model from the grid search\n",
    "best_DTR_model = grid_search.best_estimator_\n",
    "\n",
    "# Predict on the test data using the best model\n",
    "y_pred = best_DTR_model.predict(X_test)\n",
    "\n",
    "# Calculate the mean squared error\n",
    "mse = mean_squared_error(y_test, y_pred)\n",
    "print(\"Mean Squared Error:\", mse)\n",
    "\n",
    "# Print the best parameters found by GridSearchCV\n",
    "print(\"Best Parameters:\", grid_search.best_params_)\n",
    "\n",
    "r2 = r2_score(y_test, y_pred)\n",
    "print(\"R2 Score:\", r2)\n",
    "\n",
    "# Calculate RMSE (Root Mean Squared Error)\n",
    "rmse = np.sqrt(mean_squared_error(y_test, y_pred))\n",
    "\n",
    "# Calculate MAE (Mean Absolute Error)\n",
    "mae = mean_absolute_error(y_test, y_pred)\n",
    "\n",
    "# Calculate R-squared\n",
    "r2 = r2_score(y_test, y_pred)\n",
    "\n",
    "# Print the results\n",
    "print(\"RMSE:\", rmse)\n",
    "print(\"MAE:\", mae)\n",
    "print(\"R-squared:\", r2)"
   ]
  },
  {
   "cell_type": "markdown",
   "id": "8794381d",
   "metadata": {},
   "source": [
    "## Random Forest Regression"
   ]
  },
  {
   "cell_type": "code",
   "execution_count": 67,
   "id": "634a9a18",
   "metadata": {},
   "outputs": [
    {
     "name": "stdout",
     "output_type": "stream",
     "text": [
      "Mean Squared Error: 23255159.576903023\n",
      "Best Parameters: {'max_depth': 15, 'n_estimators': 20}\n",
      "R2 Score: 0.8378248931002998\n",
      "RMSE: 4822.360374018414\n",
      "MAE: 3199.662336034878\n",
      "R-squared: 0.8378248931002998\n"
     ]
    }
   ],
   "source": [
    "from sklearn.ensemble import RandomForestRegressor\n",
    "from sklearn.model_selection import train_test_split, GridSearchCV\n",
    "from sklearn.metrics import mean_squared_error\n",
    "\n",
    "# Create an instance of Random Forest Regression\n",
    "rf_model = RandomForestRegressor()\n",
    "\n",
    "# Define the parameter grid for GridSearchCV\n",
    "param_grid = {\n",
    "    'n_estimators': [10,20],  # number of trees in the forest\n",
    "    'max_depth': [7,9,12,15]  # maximum depth of the trees\n",
    "}\n",
    "\n",
    "# Create an instance of GridSearchCV\n",
    "grid_search = GridSearchCV(estimator=rf_model, param_grid=param_grid, cv=5)\n",
    "\n",
    "# Fit the GridSearchCV on the training data\n",
    "grid_search.fit(X_train, y_train)\n",
    "\n",
    "# Get the best model from the grid search\n",
    "best_RFR_model = grid_search.best_estimator_\n",
    "\n",
    "# Predict on the test data using the best model\n",
    "y_pred = best_RFR_model.predict(X_test)\n",
    "\n",
    "# Calculate the mean squared error\n",
    "mse = mean_squared_error(y_test, y_pred)\n",
    "print(\"Mean Squared Error:\", mse)\n",
    "\n",
    "# Print the best parameters found by GridSearchCV\n",
    "print(\"Best Parameters:\", grid_search.best_params_)\n",
    "\n",
    "r2 = r2_score(y_test, y_pred)\n",
    "print(\"R2 Score:\", r2)\n",
    "\n",
    "# Calculate RMSE (Root Mean Squared Error)\n",
    "rmse = np.sqrt(mean_squared_error(y_test, y_pred))\n",
    "\n",
    "# Calculate MAE (Mean Absolute Error)\n",
    "mae = mean_absolute_error(y_test, y_pred)\n",
    "\n",
    "# Calculate R-squared\n",
    "r2 = r2_score(y_test, y_pred)\n",
    "\n",
    "# Print the results\n",
    "print(\"RMSE:\", rmse)\n",
    "print(\"MAE:\", mae)\n",
    "print(\"R-squared:\", r2)\n"
   ]
  },
  {
   "cell_type": "markdown",
   "id": "c489ea04",
   "metadata": {},
   "source": [
    "## KNN Regressor"
   ]
  },
  {
   "cell_type": "code",
   "execution_count": 68,
   "id": "e6a0b2b6",
   "metadata": {},
   "outputs": [
    {
     "name": "stdout",
     "output_type": "stream",
     "text": [
      "Mean Squared Error: 20424662.310206987\n",
      "Best Parameters: {'n_neighbors': 3}\n",
      "R2 Score: 0.8575640049858899\n",
      "R2 Score: 0.8575640049858899\n",
      "RMSE: 4519.365255232972\n",
      "MAE: 2361.021005990287\n",
      "R-squared: 0.8575640049858899\n"
     ]
    }
   ],
   "source": [
    "from sklearn.neighbors import KNeighborsRegressor\n",
    "from sklearn.model_selection import train_test_split, GridSearchCV\n",
    "from sklearn.metrics import mean_squared_error\n",
    "\n",
    "# Create an instance of KNN Regression\n",
    "knn_model = KNeighborsRegressor()\n",
    "\n",
    "# Define the parameter grid for GridSearchCV\n",
    "param_grid = {\n",
    "    'n_neighbors': [3,5,7]  # number of neighbors\n",
    "}\n",
    "\n",
    "# Create an instance of GridSearchCV\n",
    "grid_search = GridSearchCV(estimator=knn_model, param_grid=param_grid, cv=5)\n",
    "\n",
    "# Fit the GridSearchCV on the training data\n",
    "grid_search.fit(X_train, y_train)\n",
    "\n",
    "# Get the best model from the grid search\n",
    "best_knn_model = grid_search.best_estimator_\n",
    "\n",
    "# Predict on the test data using the best model\n",
    "y_pred = best_knn_model.predict(X_test)\n",
    "\n",
    "# Calculate the mean squared error\n",
    "mse = mean_squared_error(y_test, y_pred)\n",
    "print(\"Mean Squared Error:\", mse)\n",
    "\n",
    "# Print the best parameters found by GridSearchCV\n",
    "print(\"Best Parameters:\", grid_search.best_params_)\n",
    "\n",
    "r2 = r2_score(y_test, y_pred)\n",
    "print(\"R2 Score:\", r2)\n",
    "\n",
    "r2 = r2_score(y_test, y_pred)\n",
    "print(\"R2 Score:\", r2)\n",
    "\n",
    "# Calculate RMSE (Root Mean Squared Error)\n",
    "rmse = np.sqrt(mean_squared_error(y_test, y_pred))\n",
    "\n",
    "# Calculate MAE (Mean Absolute Error)\n",
    "mae = mean_absolute_error(y_test, y_pred)\n",
    "\n",
    "# Calculate R-squared\n",
    "r2 = r2_score(y_test, y_pred)\n",
    "\n",
    "# Print the results\n",
    "print(\"RMSE:\", rmse)\n",
    "print(\"MAE:\", mae)\n",
    "print(\"R-squared:\", r2)\n",
    "\n"
   ]
  },
  {
   "cell_type": "markdown",
   "id": "37152552",
   "metadata": {},
   "source": [
    "## ElasticNet Regression"
   ]
  },
  {
   "cell_type": "code",
   "execution_count": 69,
   "id": "aae0b6f8",
   "metadata": {},
   "outputs": [
    {
     "name": "stdout",
     "output_type": "stream",
     "text": [
      "Mean Squared Error: 49927801.27993913\n",
      "Best Parameters: {'alpha': 0.1, 'l1_ratio': 0.8}\n",
      "R2 Score: 0.6518172028420273\n",
      "RMSE: 7065.96074712697\n",
      "MAE: 5314.189424546089\n",
      "R-squared: 0.6518172028420273\n"
     ]
    }
   ],
   "source": [
    "from sklearn.linear_model import ElasticNet\n",
    "from sklearn.model_selection import train_test_split, GridSearchCV\n",
    "from sklearn.metrics import mean_squared_error\n",
    "\n",
    "# Create an instance of ElasticNet Regression\n",
    "elasticnet_model = ElasticNet()\n",
    "\n",
    "# Define the parameter grid for GridSearchCV\n",
    "param_grid = {\n",
    "    'alpha': [0.1, 0.5, 1.0],  # regularization parameter\n",
    "    'l1_ratio': [0.2, 0.5, 0.8]  # mixing parameter between L1 and L2 penalties\n",
    "}\n",
    "\n",
    "# Create an instance of GridSearchCV\n",
    "grid_search = GridSearchCV(estimator=elasticnet_model, param_grid=param_grid, cv=5)\n",
    "\n",
    "# Fit the GridSearchCV on the training data\n",
    "grid_search.fit(X_train, y_train)\n",
    "\n",
    "# Get the best model from the grid search\n",
    "best_ELM_model = grid_search.best_estimator_\n",
    "\n",
    "# Predict on the test data using the best model\n",
    "y_pred = best_ELM_model.predict(X_test)\n",
    "\n",
    "# Calculate the mean squared error\n",
    "mse = mean_squared_error(y_test, y_pred)\n",
    "print(\"Mean Squared Error:\", mse)\n",
    "\n",
    "# Print the best parameters found by GridSearchCV\n",
    "print(\"Best Parameters:\", grid_search.best_params_)\n",
    "\n",
    "r2 = r2_score(y_test, y_pred)\n",
    "print(\"R2 Score:\", r2)\n",
    "\n",
    "# Calculate RMSE (Root Mean Squared Error)\n",
    "rmse = np.sqrt(mean_squared_error(y_test, y_pred))\n",
    "\n",
    "# Calculate MAE (Mean Absolute Error)\n",
    "mae = mean_absolute_error(y_test, y_pred)\n",
    "\n",
    "# Calculate R-squared\n",
    "r2 = r2_score(y_test, y_pred)\n",
    "\n",
    "# Print the results\n",
    "print(\"RMSE:\", rmse)\n",
    "print(\"MAE:\", mae)\n",
    "print(\"R-squared:\", r2)\n"
   ]
  },
  {
   "cell_type": "markdown",
   "id": "bae3607b",
   "metadata": {},
   "source": [
    "## Save the best model"
   ]
  },
  {
   "cell_type": "markdown",
   "id": "d83662e4",
   "metadata": {},
   "source": [
    "KNN Regressor se pokazao kao najbolji model. Potrebno je taj model spremiti, te ga integrirati u API."
   ]
  },
  {
   "cell_type": "code",
   "execution_count": 70,
   "id": "203046bb",
   "metadata": {},
   "outputs": [],
   "source": [
    "import pickle\n",
    "\n",
    "# Save the model to a file\n",
    "filename = 'model.pkl'\n",
    "with open(filename, 'wb') as file:\n",
    "    pickle.dump(best_knn_model, file)"
   ]
  }
 ],
 "metadata": {
  "kernelspec": {
   "display_name": "Python 3 (ipykernel)",
   "language": "python",
   "name": "python3"
  },
  "language_info": {
   "codemirror_mode": {
    "name": "ipython",
    "version": 3
   },
   "file_extension": ".py",
   "mimetype": "text/x-python",
   "name": "python",
   "nbconvert_exporter": "python",
   "pygments_lexer": "ipython3",
   "version": "3.9.12"
  }
 },
 "nbformat": 4,
 "nbformat_minor": 5
}
